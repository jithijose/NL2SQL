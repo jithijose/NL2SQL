{
 "cells": [
  {
   "cell_type": "markdown",
   "metadata": {},
   "source": [
    "## Natural Language to SQL\n",
    "1. Building a basic NL2SQL Model\n",
    "2. Adding few-shot examples\n",
    "3. Dynamic few-shot example selection\n",
    "4. Dynamic Relevant table selection\n",
    "5. Customizing prompts\n",
    "6. Adding memory to the chatbots so that it can answer follow up questions related to DB"
   ]
  },
  {
   "cell_type": "markdown",
   "metadata": {},
   "source": [
    "### Building a Basic NL2SQL Model"
   ]
  },
  {
   "cell_type": "code",
   "execution_count": 1,
   "metadata": {},
   "outputs": [],
   "source": [
    "from langchain_community.utilities.sql_database import SQLDatabase\n",
    "from langchain.chains import create_sql_query_chain\n",
    "from langchain_community.tools.sql_database.tool import QuerySQLDataBaseTool\n",
    "from langchain_openai import ChatOpenAI\n",
    "from dotenv import load_dotenv"
   ]
  },
  {
   "cell_type": "code",
   "execution_count": 2,
   "metadata": {},
   "outputs": [
    {
     "data": {
      "text/plain": [
       "True"
      ]
     },
     "execution_count": 2,
     "metadata": {},
     "output_type": "execute_result"
    }
   ],
   "source": [
    "# load the environment variables from .env file\n",
    "load_dotenv()"
   ]
  },
  {
   "cell_type": "code",
   "execution_count": 3,
   "metadata": {},
   "outputs": [
    {
     "name": "stderr",
     "output_type": "stream",
     "text": [
      "/Users/jithinjose/Documents/TechincalProjects/PythonProjects/Project Langchain/NL2SQL/.conda/lib/python3.9/site-packages/langchain_community/utilities/sql_database.py:123: SAWarning: Could not instantiate type <class 'sqlalchemy.sql.sqltypes.SMALLINT'> with reflected arguments ['6']; using no arguments.\n",
      "  self._metadata.reflect(\n"
     ]
    }
   ],
   "source": [
    "# Connect the database \n",
    "db = SQLDatabase.from_uri(\"sqlite:///db/company.sqlite3\")"
   ]
  },
  {
   "cell_type": "code",
   "execution_count": 4,
   "metadata": {},
   "outputs": [
    {
     "name": "stdout",
     "output_type": "stream",
     "text": [
      "sqlite\n",
      "['customers', 'employees', 'offices', 'orderdetails', 'orders', 'payments', 'productlines', 'products']\n",
      "\n",
      "CREATE TABLE customers (\n",
      "\t\"customerNumber\" INTEGER, \n",
      "\t\"customerName\" VARCHAR(50) NOT NULL, \n",
      "\t\"contactLastName\" VARCHAR(50) NOT NULL, \n",
      "\t\"contactFirstName\" VARCHAR(50) NOT NULL, \n",
      "\tphone VARCHAR(50) NOT NULL, \n",
      "\t\"addressLine1\" VARCHAR(50) NOT NULL, \n",
      "\t\"addressLine2\" VARCHAR(50) DEFAULT NULL, \n",
      "\tcity VARCHAR(50) NOT NULL, \n",
      "\tstate VARCHAR(50) DEFAULT NULL, \n",
      "\t\"postalCode\" VARCHAR(15) DEFAULT NULL, \n",
      "\tcountry VARCHAR(50) NOT NULL, \n",
      "\t\"salesRepEmployeeNumber\" INTEGER DEFAULT NULL, \n",
      "\t\"creditLimit\" DECIMAL(10, 2) DEFAULT NULL, \n",
      "\tPRIMARY KEY (\"customerNumber\"), \n",
      "\tFOREIGN KEY(\"salesRepEmployeeNumber\") REFERENCES employees (\"employeeNumber\")\n",
      ")\n",
      "\n",
      "/*\n",
      "3 rows from customers table:\n",
      "customerNumber\tcustomerName\tcontactLastName\tcontactFirstName\tphone\taddressLine1\taddressLine2\tcity\tstate\tpostalCode\tcountry\tsalesRepEmployeeNumber\tcreditLimit\n",
      "103\tAtelier graphique\tSchmitt\tCarine \t40.32.2555\t54, rue Royale\tNone\tNantes\tNone\t44000\tFrance\t1370\t21000.00\n",
      "112\tSignal Gift Stores\tKing\tJean\t7025551838\t8489 Strong St.\tNone\tLas Vegas\tNV\t83030\tUSA\t1166\t71800.00\n",
      "114\tAustralian Collectors, Co.\tFerguson\tPeter\t03 9520 4555\t636 St Kilda Road\tLevel 3\tMelbourne\tVictoria\t3004\tAustralia\t1611\t117300.00\n",
      "*/\n",
      "\n",
      "\n",
      "CREATE TABLE employees (\n",
      "\t\"employeeNumber\" INTEGER, \n",
      "\t\"lastName\" VARCHAR(50) NOT NULL, \n",
      "\t\"firstName\" VARCHAR(50) NOT NULL, \n",
      "\textension VARCHAR(10) NOT NULL, \n",
      "\temail VARCHAR(100) NOT NULL, \n",
      "\t\"officeCode\" VARCHAR(10) NOT NULL, \n",
      "\t\"reportsTo\" INTEGER DEFAULT NULL, \n",
      "\t\"jobTitle\" VARCHAR(50) NOT NULL, \n",
      "\tPRIMARY KEY (\"employeeNumber\"), \n",
      "\tFOREIGN KEY(\"reportsTo\") REFERENCES employees (\"employeeNumber\"), \n",
      "\tFOREIGN KEY(\"officeCode\") REFERENCES offices (\"officeCode\")\n",
      ")\n",
      "\n",
      "/*\n",
      "3 rows from employees table:\n",
      "employeeNumber\tlastName\tfirstName\textension\temail\tofficeCode\treportsTo\tjobTitle\n",
      "1002\tMurphy\tDiane\tx5800\tdmurphy@classicmodelcars.com\t1\tNone\tPresident\n",
      "1056\tPatterson\tMary\tx4611\tmpatterso@classicmodelcars.com\t1\t1002\tVP Sales\n",
      "1076\tFirrelli\tJeff\tx9273\tjfirrelli@classicmodelcars.com\t1\t1002\tVP Marketing\n",
      "*/\n",
      "\n",
      "\n",
      "CREATE TABLE offices (\n",
      "\t\"officeCode\" VARCHAR(10), \n",
      "\tcity VARCHAR(50) NOT NULL, \n",
      "\tphone VARCHAR(50) NOT NULL, \n",
      "\t\"addressLine1\" VARCHAR(50) NOT NULL, \n",
      "\t\"addressLine2\" VARCHAR(50) DEFAULT NULL, \n",
      "\tstate VARCHAR(50) DEFAULT NULL, \n",
      "\tcountry VARCHAR(50) NOT NULL, \n",
      "\t\"postalCode\" VARCHAR(15) NOT NULL, \n",
      "\tterritory VARCHAR(10) NOT NULL, \n",
      "\tPRIMARY KEY (\"officeCode\")\n",
      ")\n",
      "\n",
      "/*\n",
      "3 rows from offices table:\n",
      "officeCode\tcity\tphone\taddressLine1\taddressLine2\tstate\tcountry\tpostalCode\tterritory\n",
      "1\tSan Francisco\t+1 650 219 4782\t100 Market Street\tSuite 300\tCA\tUSA\t94080\tNA\n",
      "2\tBoston\t+1 215 837 0825\t1550 Court Place\tSuite 102\tMA\tUSA\t02107\tNA\n",
      "3\tNYC\t+1 212 555 3000\t523 East 53rd Street\tapt. 5A\tNY\tUSA\t10022\tNA\n",
      "*/\n",
      "\n",
      "\n",
      "CREATE TABLE orderdetails (\n",
      "\t\"orderNumber\" INTEGER, \n",
      "\t\"productCode\" VARCHAR(15) NOT NULL, \n",
      "\t\"quantityOrdered\" INTEGER NOT NULL, \n",
      "\t\"priceEach\" DECIMAL(10, 2) NOT NULL, \n",
      "\t\"orderLineNumber\" SMALLINT NOT NULL, \n",
      "\tPRIMARY KEY (\"orderNumber\", \"productCode\"), \n",
      "\tFOREIGN KEY(\"orderNumber\") REFERENCES orders (\"orderNumber\"), \n",
      "\tFOREIGN KEY(\"productCode\") REFERENCES products (\"productCode\")\n",
      ")\n",
      "\n",
      "/*\n",
      "3 rows from orderdetails table:\n",
      "orderNumber\tproductCode\tquantityOrdered\tpriceEach\torderLineNumber\n",
      "10100\tS18_1749\t30\t136.00\t3\n",
      "10100\tS18_2248\t50\t55.09\t2\n",
      "10100\tS18_4409\t22\t75.46\t4\n",
      "*/\n",
      "\n",
      "\n",
      "CREATE TABLE orders (\n",
      "\t\"orderNumber\" INTEGER, \n",
      "\t\"orderDate\" DATE NOT NULL, \n",
      "\t\"requiredDate\" DATE NOT NULL, \n",
      "\t\"shippedDate\" DATE DEFAULT NULL, \n",
      "\tstatus VARCHAR(15) NOT NULL, \n",
      "\tcomments TEXT, \n",
      "\t\"customerNumber\" INTEGER NOT NULL, \n",
      "\tPRIMARY KEY (\"orderNumber\"), \n",
      "\tFOREIGN KEY(\"customerNumber\") REFERENCES customers (\"customerNumber\")\n",
      ")\n",
      "\n",
      "/*\n",
      "3 rows from orders table:\n",
      "orderNumber\torderDate\trequiredDate\tshippedDate\tstatus\tcomments\tcustomerNumber\n",
      "10100\t2003-01-06\t2003-01-13\t2003-01-10\tShipped\tNone\t363\n",
      "10101\t2003-01-09\t2003-01-18\t2003-01-11\tShipped\tCheck on availability.\t128\n",
      "10102\t2003-01-10\t2003-01-18\t2003-01-14\tShipped\tNone\t181\n",
      "*/\n",
      "\n",
      "\n",
      "CREATE TABLE payments (\n",
      "\t\"customerNumber\" INTEGER, \n",
      "\t\"checkNumber\" VARCHAR(50) NOT NULL, \n",
      "\t\"paymentDate\" DATE NOT NULL, \n",
      "\tamount DECIMAL(10, 2) NOT NULL, \n",
      "\tPRIMARY KEY (\"customerNumber\", \"checkNumber\"), \n",
      "\tFOREIGN KEY(\"customerNumber\") REFERENCES customers (\"customerNumber\")\n",
      ")\n",
      "\n",
      "/*\n",
      "3 rows from payments table:\n",
      "customerNumber\tcheckNumber\tpaymentDate\tamount\n",
      "103\tHQ336336\t2004-10-19\t6066.78\n",
      "103\tJM555205\t2003-06-05\t14571.44\n",
      "103\tOM314933\t2004-12-18\t1676.14\n",
      "*/\n",
      "\n",
      "\n",
      "CREATE TABLE productlines (\n",
      "\t\"productLine\" VARCHAR(50), \n",
      "\t\"textDescription\" VARCHAR(4000) DEFAULT NULL, \n",
      "\t\"htmlDescription\" TEXT, \n",
      "\tPRIMARY KEY (\"productLine\")\n",
      ")\n",
      "\n",
      "/*\n",
      "3 rows from productlines table:\n",
      "productLine\ttextDescription\thtmlDescription\n",
      "Classic Cars\tAttention car enthusiasts: Make your wildest car ownership dreams come true. Whether you are looking\tNone\n",
      "Motorcycles\tOur motorcycles are state of the art replicas of classic as well as contemporary motorcycle legends \tNone\n",
      "Planes\tUnique, diecast airplane and helicopter replicas suitable for collections, as well as home, office o\tNone\n",
      "*/\n",
      "\n",
      "\n",
      "CREATE TABLE products (\n",
      "\t\"productCode\" VARCHAR(15), \n",
      "\t\"productName\" VARCHAR(70) NOT NULL, \n",
      "\t\"productLine\" VARCHAR(50) NOT NULL, \n",
      "\t\"productScale\" VARCHAR(10) NOT NULL, \n",
      "\t\"productVendor\" VARCHAR(50) NOT NULL, \n",
      "\t\"productDescription\" TEXT NOT NULL, \n",
      "\t\"quantityInStock\" SMALLINT NOT NULL, \n",
      "\t\"buyPrice\" DECIMAL(10, 2) NOT NULL, \n",
      "\t\"MSRP\" DECIMAL(10, 2) NOT NULL, \n",
      "\tPRIMARY KEY (\"productCode\"), \n",
      "\tFOREIGN KEY(\"productLine\") REFERENCES productlines (\"productLine\")\n",
      ")\n",
      "\n",
      "/*\n",
      "3 rows from products table:\n",
      "productCode\tproductName\tproductLine\tproductScale\tproductVendor\tproductDescription\tquantityInStock\tbuyPrice\tMSRP\n",
      "S10_1678\t1969 Harley Davidson Ultimate Chopper\tMotorcycles\t1:10\tMin Lin Diecast\tThis replica features working kickstand, front suspension, gear-shift lever, footbrake lever, drive \t7933\t48.81\t95.70\n",
      "S10_1949\t1952 Alpine Renault 1300\tClassic Cars\t1:10\tClassic Metal Creations\tTurnable front wheels; steering function; detailed interior; detailed engine; opening hood; opening \t7305\t98.58\t214.30\n",
      "S10_2016\t1996 Moto Guzzi 1100i\tMotorcycles\t1:10\tHighway 66 Mini Classics\tOfficial Moto Guzzi logos and insignias, saddle bags located on side of motorcycle, detailed engine,\t6625\t68.99\t118.94\n",
      "*/\n"
     ]
    }
   ],
   "source": [
    "# get the basic info from the database and tables\n",
    "print(db.dialect)\n",
    "print(db.get_usable_table_names())\n",
    "print(db.table_info)"
   ]
  },
  {
   "cell_type": "code",
   "execution_count": 5,
   "metadata": {},
   "outputs": [],
   "source": [
    "# define llm\n",
    "llm = ChatOpenAI(model=\"gpt-3.5-turbo\", temperature=0, verbose=True)"
   ]
  },
  {
   "cell_type": "code",
   "execution_count": 6,
   "metadata": {},
   "outputs": [
    {
     "name": "stdout",
     "output_type": "stream",
     "text": [
      "--- Generated Query ----\n",
      "SELECT \"buyPrice\", \"MSRP\"\n",
      "FROM products\n",
      "WHERE \"productName\" LIKE '%1968 Ford Mustang%'\n",
      "--------------\n"
     ]
    }
   ],
   "source": [
    "# Generate query chain\n",
    "generate_query = create_sql_query_chain(llm, db)\n",
    "\n",
    "# invoke the chain to get the query\n",
    "query = generate_query.invoke({\"question\": \"What is the price of 1968 Ford Mustang like car?\"})\n",
    "# print(\"--- Generated Query ----\")\n",
    "print(query)\n",
    "# print(\"--------------\")"
   ]
  },
  {
   "cell_type": "code",
   "execution_count": 7,
   "metadata": {},
   "outputs": [
    {
     "name": "stdout",
     "output_type": "stream",
     "text": [
      "[(95.34, 194.57)]\n"
     ]
    }
   ],
   "source": [
    "execute_query = QuerySQLDataBaseTool(db=db)\n",
    "result = execute_query.invoke(query)\n",
    "print(result)"
   ]
  },
  {
   "cell_type": "code",
   "execution_count": 8,
   "metadata": {},
   "outputs": [
    {
     "data": {
      "text/plain": [
       "'[(326,)]'"
      ]
     },
     "execution_count": 8,
     "metadata": {},
     "output_type": "execute_result"
    }
   ],
   "source": [
    "# Define chain using LCEL\n",
    "chain = generate_query | execute_query\n",
    "chain.invoke({\"question\": \"How many orders are there?\"})"
   ]
  },
  {
   "cell_type": "code",
   "execution_count": 9,
   "metadata": {},
   "outputs": [
    {
     "name": "stdout",
     "output_type": "stream",
     "text": [
      "You are a SQLite expert. Given an input question, first create a syntactically correct SQLite query to run, then look at the results of the query and return the answer to the input question.\n",
      "Unless the user specifies in the question a specific number of examples to obtain, query for at most 5 results using the LIMIT clause as per SQLite. You can order the results to return the most informative data in the database.\n",
      "Never query for all columns from a table. You must query only the columns that are needed to answer the question. Wrap each column name in double quotes (\") to denote them as delimited identifiers.\n",
      "Pay attention to use only the column names you can see in the tables below. Be careful to not query for columns that do not exist. Also, pay attention to which column is in which table.\n",
      "Pay attention to use date('now') function to get the current date, if the question involves \"today\".\n",
      "\n",
      "Use the following format:\n",
      "\n",
      "Question: Question here\n",
      "SQLQuery: SQL Query to run\n",
      "SQLResult: Result of the SQLQuery\n",
      "Answer: Final answer here\n",
      "\n",
      "Only use the following tables:\n",
      "\u001b[33;1m\u001b[1;3m{table_info}\u001b[0m\n",
      "\n",
      "Question: \u001b[33;1m\u001b[1;3m{input}\u001b[0m\n"
     ]
    }
   ],
   "source": [
    "# View the underhood prompt from the chain\n",
    "chain.get_prompts() [0].pretty_print()"
   ]
  },
  {
   "cell_type": "code",
   "execution_count": 10,
   "metadata": {},
   "outputs": [
    {
     "data": {
      "text/plain": [
       "'There are a total of 326 orders.'"
      ]
     },
     "execution_count": 10,
     "metadata": {},
     "output_type": "execute_result"
    }
   ],
   "source": [
    "# Rephrase the answer\n",
    "from operator import itemgetter\n",
    "from langchain_core.output_parsers import StrOutputParser\n",
    "from langchain_core.prompts import PromptTemplate\n",
    "from langchain_core.runnables import RunnablePassthrough\n",
    "\n",
    "answer_prompt = PromptTemplate.from_template(\n",
    "    \"\"\"Given the following user question, corresponding SQL query, and SQL result, answer the user question\n",
    "    \n",
    "    Question: {question}\n",
    "    SQL Query: {query}\n",
    "    SQL Result: {result}\n",
    "    Answer: \"\"\"\n",
    ")\n",
    "\n",
    "rephrase_answer = answer_prompt | llm | StrOutputParser()\n",
    "chain = (\n",
    "    RunnablePassthrough.assign(query=generate_query).assign(result=itemgetter(\"query\") | execute_query) | rephrase_answer\n",
    ")\n",
    "\n",
    "chain.invoke({\"question\": \"How many orders are there?\"})"
   ]
  },
  {
   "cell_type": "markdown",
   "metadata": {},
   "source": [
    "### Adding few-shot examples"
   ]
  },
  {
   "cell_type": "code",
   "execution_count": 11,
   "metadata": {},
   "outputs": [],
   "source": [
    "examples = [\n",
    "    {\n",
    "        \"input\": \"List all customers in France with a credit limit over 20,000.\",\n",
    "        \"query\": \"SELECT * FROM customers WHERE country = 'France' AND creditLimit > 20000;\"\n",
    "    },\n",
    "    {\n",
    "        \"input\": \"Get the highest payment amount made by any customer.\",\n",
    "        \"query\": \"SELECT MAX(amount) FROM payments;\"\n",
    "    },\n",
    "    {\n",
    "        \"input\": \"Show product details for products in the 'Motorcycles' product line.\",\n",
    "        \"query\": \"SELECT * FROM products WHERE productLine = 'Motorcycles';\"\n",
    "    },\n",
    "    {\n",
    "        \"input\": \"Retrieve the names of employees who report to employee number 1002.\",\n",
    "        \"query\": \"SELECT firstName, lastName FROM employees WHERE reportsTo = 1002;\"\n",
    "    },\n",
    "    {\n",
    "        \"input\": \"List all products with a stock quantity less than 7000.\",\n",
    "        \"query\": \"SELECT productName, quantityInStock FROM products WHERE quantityInStock < 7000;\"\n",
    "    },\n",
    "    {\n",
    "     'input':\"what is price of `1968 Ford Mustang`\",\n",
    "     \"query\": \"SELECT `buyPrice`, `MSRP` FROM products  WHERE `productName` = '1968 Ford Mustang' LIMIT 1;\"\n",
    "    }\n",
    "]"
   ]
  },
  {
   "cell_type": "code",
   "execution_count": 15,
   "metadata": {},
   "outputs": [
    {
     "name": "stdout",
     "output_type": "stream",
     "text": [
      "Human: List all customers in France with a credit limit over 20,000.\n",
      "SQLQuery:\n",
      "AI: SELECT * FROM customers WHERE country = 'France' AND creditLimit > 20000;\n",
      "Human: Get the highest payment amount made by any customer.\n",
      "SQLQuery:\n",
      "AI: SELECT MAX(amount) FROM payments;\n",
      "Human: Show product details for products in the 'Motorcycles' product line.\n",
      "SQLQuery:\n",
      "AI: SELECT * FROM products WHERE productLine = 'Motorcycles';\n",
      "Human: Retrieve the names of employees who report to employee number 1002.\n",
      "SQLQuery:\n",
      "AI: SELECT firstName, lastName FROM employees WHERE reportsTo = 1002;\n",
      "Human: List all products with a stock quantity less than 7000.\n",
      "SQLQuery:\n",
      "AI: SELECT productName, quantityInStock FROM products WHERE quantityInStock < 7000;\n",
      "Human: what is price of `1968 Ford Mustang`\n",
      "SQLQuery:\n",
      "AI: SELECT `buyPrice`, `MSRP` FROM products  WHERE `productName` = '1968 Ford Mustang' LIMIT 1;\n"
     ]
    }
   ],
   "source": [
    "from langchain_core.prompts import ChatPromptTemplate, MessagesPlaceholder, FewShotChatMessagePromptTemplate,PromptTemplate\n",
    "\n",
    "example_prompt = ChatPromptTemplate.from_messages(\n",
    "    [\n",
    "        (\"human\",\"{input}\\nSQLQuery:\"),\n",
    "        (\"ai\",\"{query}\")\n",
    "    ]\n",
    ")\n",
    "few_shot_prompt = FewShotChatMessagePromptTemplate(\n",
    "    example_prompt=example_prompt,\n",
    "    examples=examples,\n",
    "    # input_variables=[\"input\", \"top_k\"],\n",
    "    input_variables=[\"input\"],\n",
    ")\n",
    "\n",
    "# print(few_shot_prompt.format(input=\"How many products are there?\", top_k=3, table_info=\"\"))\n",
    "print(few_shot_prompt.format(input=\"How many products are there?\"))"
   ]
  },
  {
   "cell_type": "markdown",
   "metadata": {},
   "source": [
    "### Dynamic Few-shot example selection"
   ]
  },
  {
   "cell_type": "code",
   "execution_count": 18,
   "metadata": {},
   "outputs": [
    {
     "data": {
      "text/plain": [
       "[{'input': 'Retrieve the names of employees who report to employee number 1002.',\n",
       "  'query': 'SELECT firstName, lastName FROM employees WHERE reportsTo = 1002;'},\n",
       " {'input': 'List all customers in France with a credit limit over 20,000.',\n",
       "  'query': \"SELECT * FROM customers WHERE country = 'France' AND creditLimit > 20000;\"}]"
      ]
     },
     "execution_count": 18,
     "metadata": {},
     "output_type": "execute_result"
    }
   ],
   "source": [
    "from langchain_community.vectorstores import Chroma\n",
    "from langchain_core.example_selectors import SemanticSimilarityExampleSelector\n",
    "from langchain_openai import OpenAIEmbeddings\n",
    "\n",
    "vectorstore = Chroma()\n",
    "vectorstore.delete_collection()\n",
    "example_selector = SemanticSimilarityExampleSelector.from_examples(\n",
    "    examples=examples,\n",
    "    embeddings=OpenAIEmbeddings(),\n",
    "    vectorstore_cls=vectorstore,\n",
    "    k=2,\n",
    "    input_keys=[\"input\"]\n",
    ")\n",
    "\n",
    "example_selector.select_examples({\"input\": \"how many employees we have?\"})\n",
    "# example_selector.select_examples({\"input\": \"how many employees\"})"
   ]
  },
  {
   "cell_type": "code",
   "execution_count": 19,
   "metadata": {},
   "outputs": [
    {
     "name": "stdout",
     "output_type": "stream",
     "text": [
      "Human: List all products with a stock quantity less than 7000.\n",
      "SQLQuery:\n",
      "AI: SELECT productName, quantityInStock FROM products WHERE quantityInStock < 7000;\n",
      "Human: Show product details for products in the 'Motorcycles' product line.\n",
      "SQLQuery:\n",
      "AI: SELECT * FROM products WHERE productLine = 'Motorcycles';\n"
     ]
    }
   ],
   "source": [
    "# modify the few_shot_prompt with example selector\n",
    "few_shot_prompt = FewShotChatMessagePromptTemplate(\n",
    "    example_prompt=example_prompt,\n",
    "    example_selector=example_selector,\n",
    "    input_variables=[\"input\",\"top_k\"]\n",
    ")\n",
    "\n",
    "print(few_shot_prompt.format(input=\"How many products are there?\"))"
   ]
  },
  {
   "cell_type": "markdown",
   "metadata": {},
   "source": [
    "### Customizing the Prompts"
   ]
  },
  {
   "cell_type": "code",
   "execution_count": 20,
   "metadata": {},
   "outputs": [
    {
     "name": "stdout",
     "output_type": "stream",
     "text": [
      "System: You are a MySQL expert. Given an input question, create a syntactically correct MySQL query to run. Unless otherwise specificed.\n",
      "\n",
      "Here is the relevant table info: some table info\n",
      "\n",
      "Below are a number of examples of questions and their corresponding SQL queries.\n",
      "Human: List all products with a stock quantity less than 7000.\n",
      "SQLQuery:\n",
      "AI: SELECT productName, quantityInStock FROM products WHERE quantityInStock < 7000;\n",
      "Human: Show product details for products in the 'Motorcycles' product line.\n",
      "SQLQuery:\n",
      "AI: SELECT * FROM products WHERE productLine = 'Motorcycles';\n",
      "Human: How many products are there?\n"
     ]
    }
   ],
   "source": [
    "final_prompt = ChatPromptTemplate.from_messages([\n",
    "    (\"system\", \"You are a MySQL expert. Given an input question, create a syntactically correct MySQL query to run. Unless otherwise specificed.\\n\\nHere is the relevant table info: {table_info}\\n\\nBelow are a number of examples of questions and their corresponding SQL queries.\"),\n",
    "    few_shot_prompt,\n",
    "    (\"human\",\"{input}\"),\n",
    "\n",
    "])\n",
    "\n",
    "print(final_prompt.format(input=\"How many products are there?\", table_info=\"some table info\"))"
   ]
  },
  {
   "cell_type": "code",
   "execution_count": 21,
   "metadata": {},
   "outputs": [
    {
     "data": {
      "text/plain": [
       "'There are 85 customers with a credit limit greater than 50000.'"
      ]
     },
     "execution_count": 21,
     "metadata": {},
     "output_type": "execute_result"
    }
   ],
   "source": [
    "generate_query = create_sql_query_chain(llm=llm, db=db, prompt=final_prompt)\n",
    "chain = (\n",
    "    RunnablePassthrough.assign(query=generate_query).assign(result=itemgetter(\"query\") | execute_query ) | rephrase_answer\n",
    "    )\n",
    "\n",
    "chain.invoke({\"question\": \"How many customers with credit limit more than 50000\"})"
   ]
  },
  {
   "cell_type": "markdown",
   "metadata": {},
   "source": [
    "### Dynamic Table Selection"
   ]
  },
  {
   "cell_type": "code",
   "execution_count": null,
   "metadata": {},
   "outputs": [],
   "source": []
  }
 ],
 "metadata": {
  "kernelspec": {
   "display_name": "Python 3",
   "language": "python",
   "name": "python3"
  },
  "language_info": {
   "codemirror_mode": {
    "name": "ipython",
    "version": 3
   },
   "file_extension": ".py",
   "mimetype": "text/x-python",
   "name": "python",
   "nbconvert_exporter": "python",
   "pygments_lexer": "ipython3",
   "version": "3.9.19"
  }
 },
 "nbformat": 4,
 "nbformat_minor": 2
}
